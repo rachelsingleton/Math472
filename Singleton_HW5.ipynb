{
 "cells": [
  {
   "cell_type": "markdown",
   "metadata": {},
   "source": [
    "### Rachel Singleton\n",
    "##### Homework 5\n",
    "##### Math 472 - Comp Stats"
   ]
  },
  {
   "cell_type": "markdown",
   "metadata": {},
   "source": [
    "Reproduce the solution to Example 4.2. That is, present the output of your code in the format of Table 4.1."
   ]
  },
  {
   "cell_type": "code",
   "execution_count": 13,
   "metadata": {},
   "outputs": [
    {
     "name": "stdout",
     "output_type": "stream",
     "text": [
      "['-', 0.5706852018868274, 0.1631211984086911, 0.035756018041300824, 0.006586043362088232, 0.0011683198161134732, 0.0002058004413117463, 3.620521652654377e-05, 6.367857166147983e-06]\n",
      "EM Results\n"
     ]
    },
    {
     "data": {
      "text/html": [
       "<style  type=\"text/css\" >\n",
       "    #T_ad5e88f6_52c7_11ea_995e_a4d18cd78182 th {\n",
       "          text-align: center;\n",
       "    }</style><table id=\"T_ad5e88f6_52c7_11ea_995e_a4d18cd78182\" ><thead>    <tr>        <th class=\"col_heading level0 col0\" >Iteration,t</th>        <th class=\"col_heading level0 col1\" >pC^(t)</th>        <th class=\"col_heading level0 col2\" >pI^(t)</th>        <th class=\"col_heading level0 col3\" >R^(t)</th>    </tr></thead><tbody>\n",
       "                <tr>\n",
       "                                <td id=\"T_ad5e88f6_52c7_11ea_995e_a4d18cd78182row0_col0\" class=\"data row0 col0\" >0</td>\n",
       "                        <td id=\"T_ad5e88f6_52c7_11ea_995e_a4d18cd78182row0_col1\" class=\"data row0 col1\" >0.333333</td>\n",
       "                        <td id=\"T_ad5e88f6_52c7_11ea_995e_a4d18cd78182row0_col2\" class=\"data row0 col2\" >0.333333</td>\n",
       "                        <td id=\"T_ad5e88f6_52c7_11ea_995e_a4d18cd78182row0_col3\" class=\"data row0 col3\" >-</td>\n",
       "            </tr>\n",
       "            <tr>\n",
       "                                <td id=\"T_ad5e88f6_52c7_11ea_995e_a4d18cd78182row1_col0\" class=\"data row1 col0\" >1</td>\n",
       "                        <td id=\"T_ad5e88f6_52c7_11ea_995e_a4d18cd78182row1_col1\" class=\"data row1 col1\" >0.0819936</td>\n",
       "                        <td id=\"T_ad5e88f6_52c7_11ea_995e_a4d18cd78182row1_col2\" class=\"data row1 col2\" >0.237406</td>\n",
       "                        <td id=\"T_ad5e88f6_52c7_11ea_995e_a4d18cd78182row1_col3\" class=\"data row1 col3\" >0.570685</td>\n",
       "            </tr>\n",
       "            <tr>\n",
       "                                <td id=\"T_ad5e88f6_52c7_11ea_995e_a4d18cd78182row2_col0\" class=\"data row2 col0\" >2</td>\n",
       "                        <td id=\"T_ad5e88f6_52c7_11ea_995e_a4d18cd78182row2_col1\" class=\"data row2 col1\" >0.071249</td>\n",
       "                        <td id=\"T_ad5e88f6_52c7_11ea_995e_a4d18cd78182row2_col2\" class=\"data row2 col2\" >0.19787</td>\n",
       "                        <td id=\"T_ad5e88f6_52c7_11ea_995e_a4d18cd78182row2_col3\" class=\"data row2 col3\" >0.163121</td>\n",
       "            </tr>\n",
       "            <tr>\n",
       "                                <td id=\"T_ad5e88f6_52c7_11ea_995e_a4d18cd78182row3_col0\" class=\"data row3 col0\" >3</td>\n",
       "                        <td id=\"T_ad5e88f6_52c7_11ea_995e_a4d18cd78182row3_col1\" class=\"data row3 col1\" >0.070852</td>\n",
       "                        <td id=\"T_ad5e88f6_52c7_11ea_995e_a4d18cd78182row3_col2\" class=\"data row3 col2\" >0.19036</td>\n",
       "                        <td id=\"T_ad5e88f6_52c7_11ea_995e_a4d18cd78182row3_col3\" class=\"data row3 col3\" >0.035756</td>\n",
       "            </tr>\n",
       "            <tr>\n",
       "                                <td id=\"T_ad5e88f6_52c7_11ea_995e_a4d18cd78182row4_col0\" class=\"data row4 col0\" >4</td>\n",
       "                        <td id=\"T_ad5e88f6_52c7_11ea_995e_a4d18cd78182row4_col1\" class=\"data row4 col1\" >0.0708375</td>\n",
       "                        <td id=\"T_ad5e88f6_52c7_11ea_995e_a4d18cd78182row4_col2\" class=\"data row4 col2\" >0.189023</td>\n",
       "                        <td id=\"T_ad5e88f6_52c7_11ea_995e_a4d18cd78182row4_col3\" class=\"data row4 col3\" >0.00658604</td>\n",
       "            </tr>\n",
       "            <tr>\n",
       "                                <td id=\"T_ad5e88f6_52c7_11ea_995e_a4d18cd78182row5_col0\" class=\"data row5 col0\" >5</td>\n",
       "                        <td id=\"T_ad5e88f6_52c7_11ea_995e_a4d18cd78182row5_col1\" class=\"data row5 col1\" >0.0708369</td>\n",
       "                        <td id=\"T_ad5e88f6_52c7_11ea_995e_a4d18cd78182row5_col2\" class=\"data row5 col2\" >0.188787</td>\n",
       "                        <td id=\"T_ad5e88f6_52c7_11ea_995e_a4d18cd78182row5_col3\" class=\"data row5 col3\" >0.00116832</td>\n",
       "            </tr>\n",
       "            <tr>\n",
       "                                <td id=\"T_ad5e88f6_52c7_11ea_995e_a4d18cd78182row6_col0\" class=\"data row6 col0\" >6</td>\n",
       "                        <td id=\"T_ad5e88f6_52c7_11ea_995e_a4d18cd78182row6_col1\" class=\"data row6 col1\" >0.0708369</td>\n",
       "                        <td id=\"T_ad5e88f6_52c7_11ea_995e_a4d18cd78182row6_col2\" class=\"data row6 col2\" >0.188745</td>\n",
       "                        <td id=\"T_ad5e88f6_52c7_11ea_995e_a4d18cd78182row6_col3\" class=\"data row6 col3\" >0.0002058</td>\n",
       "            </tr>\n",
       "            <tr>\n",
       "                                <td id=\"T_ad5e88f6_52c7_11ea_995e_a4d18cd78182row7_col0\" class=\"data row7 col0\" >7</td>\n",
       "                        <td id=\"T_ad5e88f6_52c7_11ea_995e_a4d18cd78182row7_col1\" class=\"data row7 col1\" >0.0708369</td>\n",
       "                        <td id=\"T_ad5e88f6_52c7_11ea_995e_a4d18cd78182row7_col2\" class=\"data row7 col2\" >0.188738</td>\n",
       "                        <td id=\"T_ad5e88f6_52c7_11ea_995e_a4d18cd78182row7_col3\" class=\"data row7 col3\" >3.62052e-05</td>\n",
       "            </tr>\n",
       "    </tbody></table>"
      ],
      "text/plain": [
       "<pandas.io.formats.style.Styler at 0x10f362588>"
      ]
     },
     "execution_count": 13,
     "metadata": {},
     "output_type": "execute_result"
    }
   ],
   "source": [
    "import pandas as pd\n",
    "import numpy as np\n",
    "num_C = 85\n",
    "num_I = 196\n",
    "num_T = 341\n",
    "n = num_C + num_I + num_T\n",
    "pT = 1/3\n",
    "pC = 1/3\n",
    "pI = 1/3\n",
    "\n",
    "\n",
    "def expect_CC(num_C,pC,pI,pT):\n",
    "    return ((num_C)*(pC)**2)/((pC**2)+2*pC*pI+2*pC*pT)\n",
    "def expect_CI(num_C,pC,pI,pT):\n",
    "    return ((2*num_C)*(pC)*(pI))/((pC**2)+(2*pC*pI)+(2*pC*pT))\n",
    "def expect_CT(num_C,pC,pI,pT):\n",
    "    return ((2*num_C)*(pC)*(pT))/((pC**2)+(2*pC*pI)+(2*pC*pT))\n",
    "def expect_II(num_I,pI,pT):\n",
    "    return ((num_I)*(pI**2))/((pI**2)+(2*pI*pT))\n",
    "def expect_IT(num_I,pI,pT):\n",
    "    return ((2*num_I)*(pI*pT))/((pI**2)+(2*pI*pT))\n",
    "\n",
    "def update_pC(n_CC,n_CI,n_CT):\n",
    "    return (2*n_CC+n_CI+n_CT)/(2*n)\n",
    "def update_pI(n_II,n_IT,n_CI):\n",
    "    return (2*n_II+n_IT+n_CI)/(2*n)\n",
    "def update_pT(n_TT,n_CT,n_IT):\n",
    "    return (2*n_TT+n_CT+n_IT)/(2*n)\n",
    "\n",
    "def conv_criteria(pC,pI,pC1,pI1):\n",
    "    p = np.array([pC,pI]).reshape((2,1))\n",
    "    p1 = np.array([pC1,pI1]).reshape((2,1))\n",
    "    r_top = np.linalg.norm(p-p1)\n",
    "    r_bottom = np.linalg.norm(p1)\n",
    "    return r_top/r_bottom\n",
    "    \n",
    "pc = [pC]\n",
    "pi = [pI]\n",
    "pt = [pT]\n",
    "values = []\n",
    "appendlist = []\n",
    "convergences = ['-']\n",
    "i = 0\n",
    "tolerance = 0.00001\n",
    "conv = 1\n",
    "\n",
    "while(tolerance < conv):\n",
    "    pC = update_pC(expect_CC(num_C,pc[i],pi[i],pt[i]),expect_CI(num_C,pc[i],pi[i],pt[i]),\n",
    "                   expect_CT(num_C,pc[i],pi[i],pt[i]))\n",
    "    pI = update_pI(expect_II(num_I,pi[i],pt[i]),expect_IT(num_I,pi[i],pt[i]),\n",
    "                   expect_CI(num_C,pc[i],pi[i],pt[i])) \n",
    "    pT = update_pT(num_T,expect_CT(num_C,pc[i],pi[i],pt[i]),\n",
    "                   expect_IT(num_I,pi[i],pt[i]))\n",
    "    pc.append(pC)\n",
    "    pi.append(pI)\n",
    "    pt.append(pT)\n",
    "    convergences.append(conv_criteria(pC,pI,pc[i],pi[i]))\n",
    "#     DC = (pc[i]-0.07084)/(pC-0.07084)\n",
    "#     DI = (pi[i]-0.18874)/(pI-0.18874)\n",
    "    conv = convergences[i+1]\n",
    "    values = [i,pc[i],pi[i],convergences[i]]\n",
    "    appendlist.append(values)\n",
    "    i += 1\n",
    "    \n",
    "print(convergences)\n",
    "print(\"EM Results\")\n",
    "df = pd.DataFrame(appendlist, columns = ['Iteration,t','pC^(t)','pI^(t)','R^(t)'])\n",
    "df = df.style.hide_index()\n",
    "df = df.set_table_styles([dict(selector='th', props=[('text-align', 'center')])])\n",
    "df"
   ]
  },
  {
   "cell_type": "code",
   "execution_count": null,
   "metadata": {},
   "outputs": [],
   "source": []
  }
 ],
 "metadata": {
  "kernelspec": {
   "display_name": "Python 3",
   "language": "python",
   "name": "python3"
  },
  "language_info": {
   "codemirror_mode": {
    "name": "ipython",
    "version": 3
   },
   "file_extension": ".py",
   "mimetype": "text/x-python",
   "name": "python",
   "nbconvert_exporter": "python",
   "pygments_lexer": "ipython3",
   "version": "3.5.5"
  },
  "varInspector": {
   "cols": {
    "lenName": 16,
    "lenType": 16,
    "lenVar": 40
   },
   "kernels_config": {
    "python": {
     "delete_cmd_postfix": "",
     "delete_cmd_prefix": "del ",
     "library": "var_list.py",
     "varRefreshCmd": "print(var_dic_list())"
    },
    "r": {
     "delete_cmd_postfix": ") ",
     "delete_cmd_prefix": "rm(",
     "library": "var_list.r",
     "varRefreshCmd": "cat(var_dic_list()) "
    }
   },
   "types_to_exclude": [
    "module",
    "function",
    "builtin_function_or_method",
    "instance",
    "_Feature"
   ],
   "window_display": false
  }
 },
 "nbformat": 4,
 "nbformat_minor": 2
}
