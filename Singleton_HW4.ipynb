{
 "cells": [
  {
   "cell_type": "markdown",
   "metadata": {},
   "source": [
    "# MATH 472 Homework 4\n",
    "## Rachel Singleton\n",
    "## Due 02/13/2020"
   ]
  },
  {
   "cell_type": "markdown",
   "metadata": {},
   "source": [
    "## Problem 2.5\n",
    "\n",
    "There were 46 crude oil spills of at least 1000 barrels from tankers in the US waters during 1974-1999. The website for this book contains the following data: the number of spills in the $i^{th}$ year, $N_i$; the estimated amount of oil shipped through US waters as part of US import/export operations in the $i^{th}$ year, adjusted for spillage in international or foreign waters, $b_{i1}$; and the amount of oil shipped through US waters during domestic shipments in the $i^{th}$ year, $b_{i2}$. The data are adapted. Oil shipment amounts are measured in billions of barrels (Bbbl).\n",
    "\n",
    "The volume of oil shipped is a measure of exposure to spill risk. Suppose we use the Poisson process assumption given by $N_i|b_{i1}, b_{i2} ~ Poisson(\\lambda_i)$, where $\\lambda_i = \\alpha_1 b_{i1} + \\alpha_2 b_{i2}$. The parameters of this model are $\\alpha_1$ and $\\alpha_2$, which represent the rate of spill occurrence per Bbbl oil shipped during import/export and domestic shipments, respectively."
   ]
  },
  {
   "cell_type": "markdown",
   "metadata": {},
   "source": [
    "### (a) Derive the Newton-Raphson update for finding the MLEs of $\\alpha_{1}$ and $\\alpha_{2}$"
   ]
  },
  {
   "cell_type": "markdown",
   "metadata": {},
   "source": [
    "### Answer to part (a)"
   ]
  },
  {
   "cell_type": "markdown",
   "metadata": {},
   "source": [
    "We know our general Poisson distribution is $f(x) = \\frac{\\lambda^x}{x!}*e^{-\\lambda}$. For our problem, $N_i$ will take the place of $x$ and we will rewrite $\\lambda_i$ in vector notation. We can rewrite $[\\alpha_1 \\alpha_2]^T$ as $[\\alpha]^T$ which then allows us to write $\\lambda = \\alpha^Tb$. \n",
    "\n",
    "This gives us a likelihood function of $L(\\alpha) = \\prod_{i=1}^{n} \\frac{1}{N_i!}*(\\alpha^Tb_i)^{N_i}*e^{-\\alpha^Tb_i}$. \n",
    "\n",
    "We can take the log of the likelihood to get the log-likelihood function: $l(\\alpha) = \\log{L(\\alpha)} = \\sum_{i=1}^{n} \\log{[\\frac{1}{N_i!}*(\\alpha^Tb_i)^{N_i}*e^{-\\alpha^Tb_i}]}$. Now we can simplify it to get\n",
    "\n",
    "$l(\\alpha) = \\sum_{i=1}^{n} N_i*\\log{(\\alpha^Tb_i)} - \\sum_{i=1}^{n} \\log{(N_i!)} - \\sum_{i=1}^{n} \\alpha^Tb_i$\n",
    "\n",
    "Now we will take the derivative of our log-likelihood function:\n",
    "\n",
    "$l^{'}(\\alpha) = \\sum_{i=1}^{n} N_i*\\frac{b_i}{\\alpha^Tb_i} - \\sum_{i=1}^{n} b_i$\n",
    "\n",
    "Lastly, we will take the derivative again to get the 2nd derivative of our log-likelihood function:\n",
    "\n",
    "$l^{''}(\\alpha) = \\sum_{i=1}^{n} \\frac{-N_i}{(\\alpha^Tb_i)^2}*(b_i)^2$\n",
    "\n",
    "Since $b_i$ is a vector, we can't technically square it so we will rewrite it with a transpose:\n",
    "\n",
    "$l^{''}(\\alpha) = \\sum_{i=1}^{n} \\frac{-N_i}{(\\alpha^Tb_i)^2}*(b_ib_i^T)$\n",
    "\n",
    "To get the Newton-Raphson update equation, we will plug our $\\alpha$ vector and our derivatives of log-likelihood into equation (2.33) from the book:\n",
    "\n",
    "$\\alpha^{(t+1)} = \\alpha^{(t)} - [\\sum_{i=1}^{n} \\frac{-N_i}{((\\alpha^{(t)})^Tb_i)^2}*(b_ib_i^T)]^{-1}[\\sum_{i=1}^{n} N_i*\\frac{b_i}{(\\alpha^{(t)})^Tb_i} - \\sum_{i=1}^{n} b_i]$"
   ]
  },
  {
   "cell_type": "markdown",
   "metadata": {},
   "source": [
    "### (b) Derive the Fisher scoring update for finding the MLEs of $\\alpha_1$ and $\\alpha_2$"
   ]
  },
  {
   "cell_type": "markdown",
   "metadata": {},
   "source": [
    "### Answer to part (b)"
   ]
  },
  {
   "cell_type": "markdown",
   "metadata": {},
   "source": [
    "To find the Fisher Scoring update, we will use equation (2.34) from the book, equations from part (a), and the definition of the Fisher Information matrix which is $I(\\theta) = -E\\{l^{''}(\\theta)\\}$.\n",
    "\n",
    "We will first find the Fisher Information matrix:\n",
    "\n",
    "$I(\\alpha) = -E[\\sum_{i=1}^{n} \\frac{-N_i}{(\\alpha^Tb_i)^2}*(b_ib_i^T)] = -\\sum_{i=1}^{n} E[\\frac{-N_i}{(\\alpha^Tb_i)^2}*(b_ib_i^T)] = -\\sum_{i=1}^{n} \\frac{-b_ib_i^T}{(\\alpha^Tb_i)^2}*E[N_i]$\n",
    "\n",
    "From knowing that $N_i$ is from a Poisson distribution, we know that the expected value of $N_i$ is $\\lambda_i$ which we know is equal to $\\alpha^Tb_i$. This then gives us\n",
    "\n",
    "$I(\\alpha) = -\\sum_{i=1}^{n} \\frac{-b_ib_i^T}{(\\alpha^Tb_i)^2}*(\\alpha^Tb_i) = -\\sum_{i=1}^{n} \\frac{-b_ib_i^T}{(\\alpha^Tb_i)} = \\sum_{i=1}^{n} \\frac{b_ib_i^T}{(\\alpha^Tb_i)}$\n",
    "\n",
    "Now we can plug the Fisher Information matrix into our updating equation:\n",
    "\n",
    "$\\alpha^{(t+1)} = \\alpha^{(t)} + [\\sum_{i=1}^{n} \\frac{b_ib_i^T}{(\\alpha^{(t)})^Tb_i}]^{-1}*[\\sum_{i=1}^{n} N_i*\\frac{b_i}{(\\alpha^{(t)})^Tb_i} - \\sum_{i=1}^{n} b_i]$"
   ]
  },
  {
   "cell_type": "markdown",
   "metadata": {},
   "source": [
    "### (c) Implement the Newton-Raphson and Fisher scoring methods for this problem, provide the MLEs of $\\alpha_1$ and $\\alpha_2$, and compare the implementation ease and performance of the two methods."
   ]
  },
  {
   "cell_type": "code",
   "execution_count": 1,
   "metadata": {},
   "outputs": [
    {
     "name": "stdout",
     "output_type": "stream",
     "text": [
      "Table for Starting Alphas [0.5,0.5] Using Newton's Method\n"
     ]
    },
    {
     "data": {
      "text/html": [
       "<style  type=\"text/css\" >\n",
       "    #T_9b37f8cc_4d5e_11ea_8e7f_a4d18cd78182 th {\n",
       "          text-align: center;\n",
       "    }</style><table id=\"T_9b37f8cc_4d5e_11ea_8e7f_a4d18cd78182\" ><thead>    <tr>        <th class=\"col_heading level0 col0\" >Iteration,t</th>        <th class=\"col_heading level0 col1\" >Alphas</th>    </tr></thead><tbody>\n",
       "                <tr>\n",
       "                                <td id=\"T_9b37f8cc_4d5e_11ea_8e7f_a4d18cd78182row0_col0\" class=\"data row0 col0\" >2</td>\n",
       "                        <td id=\"T_9b37f8cc_4d5e_11ea_8e7f_a4d18cd78182row0_col1\" class=\"data row0 col1\" >[[1.08904959]\n",
       " [0.9364765 ]]</td>\n",
       "            </tr>\n",
       "            <tr>\n",
       "                                <td id=\"T_9b37f8cc_4d5e_11ea_8e7f_a4d18cd78182row1_col0\" class=\"data row1 col0\" >3</td>\n",
       "                        <td id=\"T_9b37f8cc_4d5e_11ea_8e7f_a4d18cd78182row1_col1\" class=\"data row1 col1\" >[[1.09709646]\n",
       " [0.93756821]]</td>\n",
       "            </tr>\n",
       "            <tr>\n",
       "                                <td id=\"T_9b37f8cc_4d5e_11ea_8e7f_a4d18cd78182row2_col0\" class=\"data row2 col0\" >4</td>\n",
       "                        <td id=\"T_9b37f8cc_4d5e_11ea_8e7f_a4d18cd78182row2_col1\" class=\"data row2 col1\" >[[1.09715253]\n",
       " [0.93755459]]</td>\n",
       "            </tr>\n",
       "            <tr>\n",
       "                                <td id=\"T_9b37f8cc_4d5e_11ea_8e7f_a4d18cd78182row3_col0\" class=\"data row3 col0\" >5</td>\n",
       "                        <td id=\"T_9b37f8cc_4d5e_11ea_8e7f_a4d18cd78182row3_col1\" class=\"data row3 col1\" >[[1.09715253]\n",
       " [0.93755458]]</td>\n",
       "            </tr>\n",
       "            <tr>\n",
       "                                <td id=\"T_9b37f8cc_4d5e_11ea_8e7f_a4d18cd78182row4_col0\" class=\"data row4 col0\" >6</td>\n",
       "                        <td id=\"T_9b37f8cc_4d5e_11ea_8e7f_a4d18cd78182row4_col1\" class=\"data row4 col1\" >[[1.09715253]\n",
       " [0.93755458]]</td>\n",
       "            </tr>\n",
       "    </tbody></table>"
      ],
      "text/plain": [
       "<pandas.io.formats.style.Styler at 0x10a6de4e0>"
      ]
     },
     "execution_count": 1,
     "metadata": {},
     "output_type": "execute_result"
    }
   ],
   "source": [
    "import pandas as pd\n",
    "import numpy as np\n",
    "from scipy.linalg import inv\n",
    "from math import sqrt\n",
    "\n",
    "data = pd.read_csv(\"oilspills.dat\", delimiter=\" \")\n",
    "N = data['spills'].to_numpy().reshape((26,1))\n",
    "b1 = data['importexport'].to_numpy().reshape((26,1))\n",
    "b2 = data['domestic'].to_numpy().reshape((26,1))\n",
    "\n",
    "n = N.size\n",
    "b = np.hstack((b1,b2)).reshape((26,2))\n",
    "alpha = np.asarray([0.5,0.5]).reshape((2,1))\n",
    "\n",
    "appendedList = []\n",
    "\n",
    "def likelihood(alpha):\n",
    "    total = []\n",
    "    for i in range(26):\n",
    "        b_i = b[i].reshape((2,1))\n",
    "        total.append(N[i]*np.log(alpha.T.dot(b_i)) - np.log(np.math.factorial(N[i])) - (alpha.T.dot(b_i)))\n",
    "    total = np.asarray(total)\n",
    "    summation = total.sum(axis=0)\n",
    "    return summation\n",
    "\n",
    "def lprime(alpha):\n",
    "    total = []\n",
    "    for i in range(26):\n",
    "        b_i = b[i].reshape((2,1))\n",
    "        total.append(((N[i]/((alpha.T).dot(b_i)))*b_i)-b_i)\n",
    "    total = np.asarray(total)\n",
    "    summation = total.sum(axis=0)\n",
    "    return summation\n",
    "\n",
    "def lprime_2(alpha):\n",
    "    total = []\n",
    "    for i in range(n):\n",
    "        b_i = b[i].reshape((2,1))\n",
    "        total.append((-N[i]/((alpha.T).dot(b_i)**2))*(b_i.dot(b_i.T)))\n",
    "    total = np.asarray(total)\n",
    "    summation = total.sum(axis=0)\n",
    "    return summation\n",
    "\n",
    "def fisher(alpha):\n",
    "    total = []\n",
    "    for i in range(n):\n",
    "        b_i = b[i].reshape((2,1))\n",
    "        total.append((1/(alpha.T.dot(b_i)))*(b_i.dot(b_i.T)))\n",
    "    total = np.asarray(total)\n",
    "    summation = total.sum(axis=0)\n",
    "    return summation\n",
    "\n",
    "def newton_method(alpha,param):\n",
    "    alpha_values = [alpha]\n",
    "    num_iterations = 0\n",
    "    max_iterations = 7\n",
    "    data_values = []\n",
    "    \n",
    "    while((num_iterations < max_iterations)):\n",
    "        alpha = alpha - inv(lprime_2(alpha)).dot(lprime(alpha).reshape((2,1)))\n",
    "        data_values = [num_iterations,alpha]\n",
    "        alpha_values.append(alpha)\n",
    "        appendedList.append(data_values)\n",
    "        num_iterations+=1\n",
    "    \n",
    "    # Printing results\n",
    "    if(param==1):\n",
    "        if(num_iterations == max_iterations):\n",
    "            print(\"You reached the maximum number of iterations.\")\n",
    "        else:\n",
    "            print(\"Number of iterations: \",num_iterations)\n",
    "        print(\"Final Solution: \", alpha_values)\n",
    "    elif(param==2):\n",
    "        return alpha_values\n",
    "\n",
    "newton_method(alpha,2)\n",
    "   \n",
    "print(\"Table for Starting Alphas [0.5,0.5] Using Newton's Method\")\n",
    "df = pd.DataFrame(appendedList, columns = ['Iteration,t','Alphas'])\n",
    "df = df.iloc[2:7,:]\n",
    "df = df.style.hide_index()\n",
    "df = df.set_table_styles([dict(selector='th', props=[('text-align', 'center')])])\n",
    "df"
   ]
  },
  {
   "cell_type": "code",
   "execution_count": 2,
   "metadata": {},
   "outputs": [
    {
     "name": "stdout",
     "output_type": "stream",
     "text": [
      "Table for Starting Alphas [0.5,0.5] Using Fisher Scoring\n"
     ]
    },
    {
     "data": {
      "text/html": [
       "<style  type=\"text/css\" >\n",
       "    #T_9b444f82_4d5e_11ea_8a40_a4d18cd78182 th {\n",
       "          text-align: center;\n",
       "    }</style><table id=\"T_9b444f82_4d5e_11ea_8a40_a4d18cd78182\" ><thead>    <tr>        <th class=\"col_heading level0 col0\" >Iteration,t</th>        <th class=\"col_heading level0 col1\" >Alphas</th>    </tr></thead><tbody>\n",
       "                <tr>\n",
       "                                <td id=\"T_9b444f82_4d5e_11ea_8a40_a4d18cd78182row0_col0\" class=\"data row0 col0\" >10</td>\n",
       "                        <td id=\"T_9b444f82_4d5e_11ea_8a40_a4d18cd78182row0_col1\" class=\"data row0 col1\" >[[1.09715273]\n",
       " [0.93755428]]</td>\n",
       "            </tr>\n",
       "            <tr>\n",
       "                                <td id=\"T_9b444f82_4d5e_11ea_8a40_a4d18cd78182row1_col0\" class=\"data row1 col0\" >11</td>\n",
       "                        <td id=\"T_9b444f82_4d5e_11ea_8a40_a4d18cd78182row1_col1\" class=\"data row1 col1\" >[[1.09715247]\n",
       " [0.93755468]]</td>\n",
       "            </tr>\n",
       "            <tr>\n",
       "                                <td id=\"T_9b444f82_4d5e_11ea_8a40_a4d18cd78182row2_col0\" class=\"data row2 col0\" >12</td>\n",
       "                        <td id=\"T_9b444f82_4d5e_11ea_8a40_a4d18cd78182row2_col1\" class=\"data row2 col1\" >[[1.09715255]\n",
       " [0.93755455]]</td>\n",
       "            </tr>\n",
       "            <tr>\n",
       "                                <td id=\"T_9b444f82_4d5e_11ea_8a40_a4d18cd78182row3_col0\" class=\"data row3 col0\" >13</td>\n",
       "                        <td id=\"T_9b444f82_4d5e_11ea_8a40_a4d18cd78182row3_col1\" class=\"data row3 col1\" >[[1.09715253]\n",
       " [0.93755459]]</td>\n",
       "            </tr>\n",
       "            <tr>\n",
       "                                <td id=\"T_9b444f82_4d5e_11ea_8a40_a4d18cd78182row4_col0\" class=\"data row4 col0\" >14</td>\n",
       "                        <td id=\"T_9b444f82_4d5e_11ea_8a40_a4d18cd78182row4_col1\" class=\"data row4 col1\" >[[1.09715253]\n",
       " [0.93755458]]</td>\n",
       "            </tr>\n",
       "    </tbody></table>"
      ],
      "text/plain": [
       "<pandas.io.formats.style.Styler at 0x10e202048>"
      ]
     },
     "execution_count": 2,
     "metadata": {},
     "output_type": "execute_result"
    }
   ],
   "source": [
    "appendedList1 = []\n",
    "fisher_error = []\n",
    "def fisher_method(alpha,param):\n",
    "    alpha_values = [alpha]\n",
    "    num_iterations = 0\n",
    "    max_iterations = 15\n",
    "    data_values1 = []\n",
    "    \n",
    "    while((num_iterations < max_iterations)):\n",
    "        alpha = alpha + inv(fisher(alpha)).dot(lprime(alpha).reshape((2,1)))\n",
    "        fisher_error.append(inv(fisher(alpha)))\n",
    "        data_values1 = [num_iterations,alpha]\n",
    "        alpha_values.append(alpha)\n",
    "        appendedList1.append(data_values1)\n",
    "        num_iterations+=1\n",
    "    \n",
    "    # Printing results\n",
    "    if(param==1):\n",
    "        if(num_iterations == max_iterations):\n",
    "            print(\"You reached the maximum number of iterations.\")\n",
    "        else:\n",
    "            print(\"Number of iterations: \",num_iterations)\n",
    "        print(\"Final Solution: \", alpha_values)\n",
    "    elif(param==2):\n",
    "        return alpha_values\n",
    "    \n",
    "fisher_method(alpha,2)\n",
    "print(\"Table for Starting Alphas [0.5,0.5] Using Fisher Scoring\")\n",
    "df = pd.DataFrame(appendedList1, columns = ['Iteration,t','Alphas'])\n",
    "df = df.iloc[10:15,:]\n",
    "df = df.style.hide_index()\n",
    "df = df.set_table_styles([dict(selector='th', props=[('text-align', 'center')])])\n",
    "df"
   ]
  },
  {
   "cell_type": "markdown",
   "metadata": {},
   "source": [
    "### Answer to part (c)"
   ]
  },
  {
   "cell_type": "markdown",
   "metadata": {},
   "source": [
    "Between Newton's Method and Fisher Scoring, Newton's was more efficient because it converged in 4 iterations while Fisher converged in 13 iterations. This means that Newton's outperforms Fisher and reduces the amount of time you would have to run the algorithm to find your answer. I thought that Fisher Scoring was easier to implement but that was because I had already gone through the Newton implementation and they are practically the same. In terms of \"first glance\" implementation, I would say that Newton's method is easier to implement because you don't have to do the expected value of the Hessian like you do with Fisher. "
   ]
  },
  {
   "cell_type": "markdown",
   "metadata": {},
   "source": [
    "### (d) Estimate standard errors for the MLEs of $\\alpha_1$ and $\\alpha_2$"
   ]
  },
  {
   "cell_type": "code",
   "execution_count": 3,
   "metadata": {},
   "outputs": [
    {
     "name": "stdout",
     "output_type": "stream",
     "text": [
      "Table or Errors for Alphas [0.5,0.5]\n"
     ]
    },
    {
     "data": {
      "text/html": [
       "<style  type=\"text/css\" >\n",
       "    #T_9b479d74_4d5e_11ea_a48a_a4d18cd78182 th {\n",
       "          text-align: center;\n",
       "    }</style><table id=\"T_9b479d74_4d5e_11ea_a48a_a4d18cd78182\" ><thead>    <tr>        <th class=\"col_heading level0 col0\" >Iteration,t</th>        <th class=\"col_heading level0 col1\" >Error of Alpha</th>    </tr></thead><tbody>\n",
       "                <tr>\n",
       "                                <td id=\"T_9b479d74_4d5e_11ea_a48a_a4d18cd78182row0_col0\" class=\"data row0 col0\" >10</td>\n",
       "                        <td id=\"T_9b479d74_4d5e_11ea_a48a_a4d18cd78182row0_col1\" class=\"data row0 col1\" >[0.43755598263643175, 0.6314686971816681]</td>\n",
       "            </tr>\n",
       "            <tr>\n",
       "                                <td id=\"T_9b479d74_4d5e_11ea_a48a_a4d18cd78182row1_col0\" class=\"data row1 col0\" >11</td>\n",
       "                        <td id=\"T_9b479d74_4d5e_11ea_a48a_a4d18cd78182row1_col1\" class=\"data row1 col1\" >[0.43755596869791896, 0.6314687109144207]</td>\n",
       "            </tr>\n",
       "            <tr>\n",
       "                                <td id=\"T_9b479d74_4d5e_11ea_a48a_a4d18cd78182row2_col0\" class=\"data row2 col0\" >12</td>\n",
       "                        <td id=\"T_9b479d74_4d5e_11ea_a48a_a4d18cd78182row2_col1\" class=\"data row2 col1\" >[0.43755597309782224, 0.6314687065794696]</td>\n",
       "            </tr>\n",
       "            <tr>\n",
       "                                <td id=\"T_9b479d74_4d5e_11ea_a48a_a4d18cd78182row3_col0\" class=\"data row3 col0\" >13</td>\n",
       "                        <td id=\"T_9b479d74_4d5e_11ea_a48a_a4d18cd78182row3_col1\" class=\"data row3 col1\" >[0.43755597170892563, 0.6314687079478624]</td>\n",
       "            </tr>\n",
       "            <tr>\n",
       "                                <td id=\"T_9b479d74_4d5e_11ea_a48a_a4d18cd78182row4_col0\" class=\"data row4 col0\" >14</td>\n",
       "                        <td id=\"T_9b479d74_4d5e_11ea_a48a_a4d18cd78182row4_col1\" class=\"data row4 col1\" >[0.43755597214735215, 0.6314687075159088]</td>\n",
       "            </tr>\n",
       "    </tbody></table>"
      ],
      "text/plain": [
       "<pandas.io.formats.style.Styler at 0x10b776a20>"
      ]
     },
     "execution_count": 3,
     "metadata": {},
     "output_type": "execute_result"
    }
   ],
   "source": [
    "diags = []\n",
    "values = []\n",
    "list = []\n",
    "for i in range(len(fisher_error)):\n",
    "    val = np.diag(fisher_error[i])\n",
    "    val = [sqrt(val[0]),sqrt(val[1])]\n",
    "    diags.append(val)\n",
    "    values = [i,val]\n",
    "    list.append(values)\n",
    "    \n",
    "print(\"Table or Errors for Alphas [0.5,0.5]\")\n",
    "df = pd.DataFrame(list, columns = ['Iteration,t','Error of Alpha'])\n",
    "df = df.iloc[10:15,:]\n",
    "df = df.style.hide_index()\n",
    "df = df.set_table_styles([dict(selector='th', props=[('text-align', 'center')])])\n",
    "df"
   ]
  },
  {
   "cell_type": "markdown",
   "metadata": {},
   "source": [
    "### (e) Apply the method of steepest ascent. Use step-halving backtracking as necessary."
   ]
  },
  {
   "cell_type": "code",
   "execution_count": 4,
   "metadata": {},
   "outputs": [
    {
     "name": "stdout",
     "output_type": "stream",
     "text": [
      "73\n",
      "[[ 0.5        29.5356457   3.80924846  1.56241106  1.34665605  1.35237349\n",
      "   1.29353832  1.27080593  1.24089855  1.22004772  1.20068336  1.18504021\n",
      "   1.17153215  1.16022461  1.15061042  1.14249037  1.13560577  1.12977581\n",
      "   1.1248334   1.12064371  1.11709052  1.11407671  1.11151978  1.10935016\n",
      "   1.10750888  1.10594607  1.10461947  1.10349328  1.10253713  1.10172531\n",
      "   1.10103599  1.10045066  1.0999536   1.09953149  1.09917302  1.09886859\n",
      "   1.09861004  1.09839046  1.09820396  1.09804557  1.09791104  1.09779678\n",
      "   1.09769973  1.09761731  1.0975473   1.09748784  1.09743733  1.09739443\n",
      "   1.097358    1.09732705  1.09730076  1.09727844  1.09725947  1.09724337\n",
      "   1.09722968  1.09721806  1.09720819  1.09719981  1.09719269  1.09718664\n",
      "   1.0971815   1.09717714  1.09717343  1.09717029  1.09716761  1.09716534\n",
      "   1.09716341  1.09716177  1.09716038  1.0971592   1.0971582   1.09715734\n",
      "   1.09715662  1.097156    1.09715548]\n",
      " [ 0.5        18.9643543   2.01232263  0.56785722  0.50841594  0.60418922\n",
      "   0.63810177  0.68733969  0.72178023  0.75444234  0.78115435  0.80448347\n",
      "   0.82420737  0.84111369  0.85549573  0.86776225  0.87820351  0.88709367\n",
      "   0.89465801  0.9010934   0.90656659  0.91122065  0.91517743  0.91854093\n",
      "   0.92139975  0.92382937  0.92589405  0.92764847  0.92913916  0.9304057\n",
      "   0.93148175  0.93239592  0.93317254  0.93383229  0.93439274  0.93486883\n",
      "   0.93527325  0.93561679  0.9359086   0.93615648  0.93636703  0.93654588\n",
      "   0.93669779  0.93682683  0.93693643  0.93702953  0.93710861  0.93717578\n",
      "   0.93723283  0.93728129  0.93732245  0.93735741  0.93738711  0.93741234\n",
      "   0.93743376  0.93745196  0.93746741  0.93748054  0.9374917   0.93750117\n",
      "   0.93750921  0.93751605  0.93752185  0.93752678  0.93753097  0.93753453\n",
      "   0.93753755  0.93754011  0.93754229  0.93754414  0.93754572  0.93754705\n",
      "   0.93754819  0.93754915  0.93754997]]\n"
     ]
    },
    {
     "name": "stderr",
     "output_type": "stream",
     "text": [
      "/Users/Rachel/VIP_Stuff/miniconda3/lib/python3.5/site-packages/ipykernel_launcher.py:21: RuntimeWarning: invalid value encountered in log\n"
     ]
    }
   ],
   "source": [
    "def ascent_method(init_alpha):\n",
    "    step = 1\n",
    "    num_iterations = 0\n",
    "    max_iterations = 75\n",
    "    \n",
    "    alpha_new = alpha + step*lprime(init_alpha)\n",
    "    alpha_list = np.hstack([init_alpha,alpha_new])\n",
    "    alpha_old = init_alpha\n",
    "    check1 = alpha_new[0]-alpha_old[0]\n",
    "    check2 = alpha_new[1]-alpha_old[1]\n",
    "    check = np.linalg.norm([check1,check2],axis=0)\n",
    "    while(num_iterations < max_iterations) & (check > 1e-6):\n",
    "        alpha_old = np.array([alpha_list[:, -1]]).T\n",
    "        alpha_new = alpha_old + step*lprime(alpha_old)\n",
    "        g_old = likelihood(alpha_old)\n",
    "        g_new = likelihood(alpha_new)\n",
    "        if((g_new > g_old) & (np.isfinite(g_new))):\n",
    "            alpha_list = np.hstack((alpha_list, alpha_new))\n",
    "            num_iterations += 1\n",
    "            check1 = alpha_new[0]-alpha_old[0]\n",
    "            check2 = alpha_new[1]-alpha_old[1]\n",
    "            check = np.linalg.norm([check1,check2],axis=0)\n",
    "        else:\n",
    "            step = step/2\n",
    "    \n",
    "    print(num_iterations)\n",
    "    print(alpha_list)\n",
    "\n",
    "ascent_method(alpha)"
   ]
  },
  {
   "cell_type": "markdown",
   "metadata": {},
   "source": [
    "### (f) Apply quasi-Newton optimization with the Hessian approximation update given in (2.49). Compare performance with and without step-halving."
   ]
  },
  {
   "cell_type": "code",
   "execution_count": null,
   "metadata": {},
   "outputs": [],
   "source": []
  },
  {
   "cell_type": "markdown",
   "metadata": {},
   "source": [
    "### Answer to part (f)"
   ]
  },
  {
   "cell_type": "code",
   "execution_count": null,
   "metadata": {},
   "outputs": [],
   "source": []
  },
  {
   "cell_type": "markdown",
   "metadata": {},
   "source": [
    "### (g) Construct a graph resemling Figure 2.8 that compares the paths taken by method used in (a)-(f). Choose the plotting region and starting point to best illustrate the features of the algorithms' performance."
   ]
  },
  {
   "cell_type": "code",
   "execution_count": null,
   "metadata": {},
   "outputs": [],
   "source": [
    "\n"
   ]
  }
 ],
 "metadata": {
  "kernelspec": {
   "display_name": "Python 3",
   "language": "python",
   "name": "python3"
  },
  "language_info": {
   "codemirror_mode": {
    "name": "ipython",
    "version": 3
   },
   "file_extension": ".py",
   "mimetype": "text/x-python",
   "name": "python",
   "nbconvert_exporter": "python",
   "pygments_lexer": "ipython3",
   "version": "3.5.5"
  },
  "varInspector": {
   "cols": {
    "lenName": 16,
    "lenType": 16,
    "lenVar": 40
   },
   "kernels_config": {
    "python": {
     "delete_cmd_postfix": "",
     "delete_cmd_prefix": "del ",
     "library": "var_list.py",
     "varRefreshCmd": "print(var_dic_list())"
    },
    "r": {
     "delete_cmd_postfix": ") ",
     "delete_cmd_prefix": "rm(",
     "library": "var_list.r",
     "varRefreshCmd": "cat(var_dic_list()) "
    }
   },
   "position": {
    "height": "360px",
    "left": "1070px",
    "right": "20px",
    "top": "120px",
    "width": "357px"
   },
   "types_to_exclude": [
    "module",
    "function",
    "builtin_function_or_method",
    "instance",
    "_Feature"
   ],
   "window_display": false
  }
 },
 "nbformat": 4,
 "nbformat_minor": 2
}
