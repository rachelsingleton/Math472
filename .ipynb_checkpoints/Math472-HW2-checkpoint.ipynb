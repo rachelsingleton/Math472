{
 "cells": [
  {
   "cell_type": "code",
   "execution_count": 1,
   "metadata": {},
   "outputs": [],
   "source": [
    "# Rachel Singleton\n",
    "# Math 472\n",
    "# Homework 2\n",
    "\n",
    "# (1) Write a python script that implements the Newton's method in Example 2.2 on page 27 and produces \n",
    "# Figure 2.3 of the Computation Statistics book. \n",
    "# (2) Problem 2.2 on page 54 of the Computation Statistics book. "
   ]
  },
  {
   "cell_type": "code",
   "execution_count": 2,
   "metadata": {},
   "outputs": [],
   "source": [
    "# Suppose g'(x) is is continuously differentiable and g''(x*) != 0\n",
    "# \"At iteration t, the approach approximates g′(x∗) by the linear Taylor series expansion:\n",
    "    # 0 = g'(x*) ~ g'(x^t)+(x*-x^t)g''(x^t)\n",
    "# Root of g' is the root of the tangent line\n",
    "# 2.9 gives equation for root x* which depends on x^t\n",
    "# updating equation is x^t+1 = x^t + h^t\n",
    "# h^t = -g'(x^t)/g''(x^t)"
   ]
  },
  {
   "cell_type": "code",
   "execution_count": 48,
   "metadata": {},
   "outputs": [
    {
     "name": "stdout",
     "output_type": "stream",
     "text": [
      "Number of iterations:  4\n",
      "Final Solution:  3.5911214580612825\n",
      "0.01467006529157655\n"
     ]
    },
    {
     "data": {
      "image/png": "[encoded data removed]",
      "text/plain": [
       "<Figure size 432x288 with 1 Axes>"
      ]
     },
     "metadata": {},
     "output_type": "display_data"
    }
   ],
   "source": [
    "import numpy as np\n",
    "import matplotlib.pyplot as plt\n",
    "import matplotlib.lines as lns\n",
    "%matplotlib inline\n",
    "\n",
    "# The function we are trying to maximize\n",
    "def function_g(x):\n",
    "    return (np.log(x))/(1+x)\n",
    "    \n",
    "# The derivative of the function we are trying to maximize\n",
    "def derivative_g(x):\n",
    "    return (1+(1/x)-(np.log(x)))/((1+x)**2)\n",
    "\n",
    "def function_h(x):\n",
    "    return ((x+1)*(1+(1/x)-np.log(x)))/(3+(4/x)+((1/x)**2)-(2*np.log(x)))\n",
    "\n",
    "def derivative2_g(x):\n",
    "    return -(function_g(x))/function_h(x)\n",
    "\n",
    "def tangent_line(x,y,function):\n",
    "    slope = function(x)\n",
    "    return slope*x + (y-(slope*x))\n",
    "\n",
    "def newton_method(x):\n",
    "    x_values = [x]\n",
    "    num_iterations = 0\n",
    "    max_iterations = 20\n",
    "    tolerance = 0.000001 # 1*10^-6\n",
    "    \n",
    "    while((num_iterations < max_iterations) and (abs(derivative_g(x)) > tolerance)):\n",
    "        x = x + function_h(x)\n",
    "        x_values.append(x)\n",
    "        num_iterations+=1\n",
    "    \n",
    "    # Printing results\n",
    "    if(num_iterations == max_iterations):\n",
    "        print(\"You reached the maximum number of iterations.\")\n",
    "    else:\n",
    "        print(\"Number of iterations: \",num_iterations)\n",
    "    print(\"Final Solution: \", x_values[num_iterations])\n",
    "\n",
    "    # Now we graph!\n",
    "\n",
    "    # Plot figure 2.3\n",
    "    plt.figure(1)\n",
    "    x_axis_vals = np.linspace(2, 4, 1000)\n",
    "    plt.plot(x_axis_vals,derivative_g(x_axis_vals))\n",
    "    plt.axhline(0, color = 'r', ls='--')\n",
    "    \n",
    "    i = 0\n",
    "    while(i < len(x_values)):\n",
    "        plt.plot(x_values[i], derivative_g(x_values[i]), 'ko')\n",
    "        i+=1\n",
    "\n",
    "    print(tangent_line(3,derivative_g(3),derivative2_g))\n",
    "    plt.plot(x_axis_vals,tangent_line(x_axis_vals,derivative_g(x_axis_vals),derivative2_g), color = 'k', ls='--')\n",
    "    lns.Line2D(x_axis_vals,tangent_line(x_axis_vals,derivative_g(x_axis_vals),derivative2_g))\n",
    "    plt.axis([2.5, 4, -0.01, 0.04])\n",
    "    plt.xlabel('x',fontsize=20)\n",
    "    plt.ylabel('g(x)',fontsize=20)\n",
    "    plt.title('Figure 2.3',fontsize=17)\n",
    "    #plt.annotate('x*',xy=(x_values[num_iterations]-0.2,function_g(x_values[num_iterations])-0.025),fontsize=17)\n",
    "\n",
    "    plt.show()\n",
    "    \n",
    "newton_method(3)"
   ]
  },
  {
   "cell_type": "code",
   "execution_count": null,
   "metadata": {},
   "outputs": [],
   "source": []
  }
 ],
 "metadata": {
  "kernelspec": {
   "display_name": "Python 3",
   "language": "python",
   "name": "python3"
  },
  "language_info": {
   "codemirror_mode": {
    "name": "ipython",
    "version": 3
   },
   "file_extension": ".py",
   "mimetype": "text/x-python",
   "name": "python",
   "nbconvert_exporter": "python",
   "pygments_lexer": "ipython3",
   "version": "3.5.5"
  }
 },
 "nbformat": 4,
 "nbformat_minor": 2
}
