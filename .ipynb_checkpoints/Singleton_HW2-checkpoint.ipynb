{
 "cells": [
  {
   "cell_type": "code",
   "execution_count": null,
   "metadata": {},
   "outputs": [],
   "source": [
    "# Rachel Singleton\n",
    "# Math 472\n",
    "# Homework 2\n",
    "\n",
    "# (1) Write a python script that implements the Newton's method in Example 2.2 on page 27 and produces \n",
    "# Figure 2.3 of the Computation Statistics book. \n",
    "# (2) Problem 2.2 on page 54 of the Computation Statistics book. "
   ]
  },
  {
   "cell_type": "code",
   "execution_count": null,
   "metadata": {},
   "outputs": [],
   "source": [
    "# Suppose g'(x) is is continuously differentiable and g''(x*) != 0\n",
    "# \"At iteration t, the approach approximates g′(x∗) by the linear Taylor series expansion:\n",
    "    # 0 = g'(x*) ~ g'(x^t)+(x*-x^t)g''(x^t)\n",
    "# Root of g' is the root of the tangent line\n",
    "# 2.9 gives equation for root x* which depends on x^t\n",
    "# updating equation is x^t+1 = x^t + h^t\n",
    "# h^t = -g'(x^t)/g''(x^t)"
   ]
  },
  {
   "cell_type": "markdown",
   "metadata": {},
   "source": [
    "# Question 1"
   ]
  },
  {
   "cell_type": "code",
   "execution_count": null,
   "metadata": {},
   "outputs": [],
   "source": [
    "import numpy as np\n",
    "import matplotlib.pyplot as plt\n",
    "import matplotlib.lines as lns\n",
    "%matplotlib inline\n",
    "\n",
    "# The function we are trying to maximize\n",
    "def function_g(x):\n",
    "    return (np.log(x))/(1+x)\n",
    "    \n",
    "# The derivative of the function we are trying to maximize\n",
    "def derivative_g(x):\n",
    "    return (1+(1/x)-(np.log(x)))/((1+x)**2)\n",
    "\n",
    "def function_h(x):\n",
    "    return ((x+1)*(1+(1/x)-np.log(x)))/(3+(4/x)+((1/x)**2)-(2*np.log(x)))\n",
    "\n",
    "def derivative2_g(x):\n",
    "    return (((-1/x**2)-(1/x))*((1+x)**2)-(1+(1/x)-np.log(x))*(2+2*x))/((1+x)**2)**2\n",
    "\n",
    "def tangent_line(x):\n",
    "    slope = derivative2_g(3)\n",
    "    b = derivative_g(3)-(slope*3)\n",
    "    return slope*x + b\n",
    "\n",
    "def newton_method(x):\n",
    "    x_values = [x]\n",
    "    num_iterations = 0\n",
    "    max_iterations = 20\n",
    "    tolerance = 0.000001 # 1*10^-6\n",
    "    \n",
    "    while((num_iterations < max_iterations) and (abs(derivative_g(x)) > tolerance)):\n",
    "        x = x + function_h(x)\n",
    "        x_values.append(x)\n",
    "        num_iterations+=1\n",
    "    \n",
    "    # Printing results\n",
    "    if(num_iterations == max_iterations):\n",
    "        print(\"You reached the maximum number of iterations.\")\n",
    "    else:\n",
    "        print(\"Number of iterations: \",num_iterations)\n",
    "    print(\"Final Solution: \", x_values[num_iterations])\n",
    "\n",
    "    # Now we graph!\n",
    "\n",
    "    # Plot figure 2.3\n",
    "    plt.figure(1)\n",
    "    x_axis_vals = np.linspace(2, 4, 1000)\n",
    "    plt.plot(x_axis_vals,derivative_g(x_axis_vals))\n",
    "    plt.axhline(0, color = 'r', ls='--')\n",
    "    \n",
    "    i = 0\n",
    "    while(i < len(x_values)):\n",
    "        plt.plot(x_values[i], derivative_g(x_values[i]), 'ko')\n",
    "        i+=1\n",
    "\n",
    "    plt.plot(x_axis_vals,tangent_line(x_axis_vals), color = 'k', ls='--')\n",
    "    plt.axis([2.5, 4, -0.01, 0.04])\n",
    "    plt.xlabel('x',fontsize=20)\n",
    "    plt.ylabel('g\\'(x)',fontsize=20)\n",
    "    plt.title('Figure 2.3',fontsize=17)\n",
    "    plt.annotate('x*',xy=(3.56,-0.004),fontsize=17)\n",
    "    plt.annotate('x^0',xy=(3,0.017),fontsize=17)\n",
    "    plt.annotate('x^1',xy=(3.4,0.005),fontsize=17)\n",
    "    plt.annotate('x^2',xy=(3.55,0.0028),fontsize=17)\n",
    "\n",
    "    plt.show()\n",
    "    \n",
    "newton_method(3)"
   ]
  },
  {
   "cell_type": "code",
   "execution_count": null,
   "metadata": {},
   "outputs": [],
   "source": [
    "#Question 2: Problem 2.2\n",
    "#Consider the density f(x) = [1 − cos{x − θ}]/2π on 0 ≤ x ≤ 2π, where θ is a param- eter between −π and π. \n",
    "#The following i.i.d. data arise from this density: 3.91, 4.85, 2.28, 4.06, 3.70, 4.04, 5.46, 3.53, 2.28, 1.96, \n",
    "#2.53, 3.88, 2.22, 3.47, 4.82, 2.46, 2.99, 2.54, 0.52, 2.50. We wish to estimate θ.\n",
    "#a. Graph the log likelihood function between −π and π.\n",
    "#b. Find the method-of-moments estimator of θ.\n",
    "#c. Find the MLE for θ using the Newton–Raphson method, using the result from (b) as the starting value. \n",
    "# What solutions do you find when you start at −2.7 and 2.7?\n",
    "#d. Repeat part(c) using 200 equally spaced starting values between −π and π. Partition the interval between −π and π \n",
    "#into sets of attraction. In other words, divide the set of starting values into separate groups, with each group \n",
    "#corresponding to a separate unique outcome of the optimization (a local mode). Discuss your results.\n",
    "#e. Find two starting values,as nearly equal as you can,for which the Newton–Raphson method converges to two different \n",
    "#solutions."
   ]
  },
  {
   "cell_type": "markdown",
   "metadata": {},
   "source": [
    "# Question 2"
   ]
  },
  {
   "cell_type": "markdown",
   "metadata": {},
   "source": [
    "### (a)"
   ]
  },
  {
   "cell_type": "code",
   "execution_count": null,
   "metadata": {},
   "outputs": [],
   "source": [
    "data = np.asarray([3.91,4.85,2.28,4.06,3.70,4.04,5.46,3.53,2.28,1.96,2.53,3.88,2.22,3.47,4.82,2.46,2.99,2.54,0.52,2.5])\n",
    "def log_liklihood(x,theta):\n",
    "    n = x.size\n",
    "    total = []\n",
    "    for i in range(n):\n",
    "        total.append(np.log(1-np.cos(x[i]-theta)))\n",
    "    \n",
    "    total = np.asarray(total)\n",
    "    total=total.sum(axis=0)\n",
    "    return total-n*np.log(2*np.pi)\n",
    "\n",
    "theta_vals = np.linspace(-np.pi, np.pi, 1000)\n",
    "plt.plot(theta_vals,log_liklihood(data,theta_vals))\n",
    "plt.axis([-np.pi, np.pi, -110, -25])\n",
    "plt.xlabel('Theta',fontsize=20)\n",
    "plt.ylabel('l(theta)',fontsize=20)\n",
    "plt.title('Graph of log-liklihood function (part a)',fontsize=17)"
   ]
  },
  {
   "cell_type": "markdown",
   "metadata": {},
   "source": [
    "### (b)\n",
    "Math was done by hand on paper to take the integral of x*f(x) and then set equal to the mean found below. "
   ]
  },
  {
   "cell_type": "code",
   "execution_count": null,
   "metadata": {},
   "outputs": [],
   "source": [
    "mean = data.mean()\n",
    "print(\"Theta is estimated to be: \",np.arcsin(mean-np.pi))"
   ]
  },
  {
   "cell_type": "markdown",
   "metadata": {},
   "source": [
    "### (c)"
   ]
  },
  {
   "cell_type": "code",
   "execution_count": null,
   "metadata": {},
   "outputs": [],
   "source": [
    "def lprime(x,theta):\n",
    "    n = x.size\n",
    "    total = []\n",
    "    for i in range(n):\n",
    "        total.append((np.sin(x[i]-theta))/(np.cos(x[i]-theta)-1))\n",
    "    total = np.asarray(total)\n",
    "    summation = total.sum(axis=0)\n",
    "    return summation\n",
    "\n",
    "def lprime_2(x,theta):\n",
    "    n = x.size\n",
    "    total = []\n",
    "    for i in range(n):\n",
    "        total.append(1/(np.cos(x[i]-theta)-1))\n",
    "    total = np.asarray(total)\n",
    "    summation = total.sum(axis=0)\n",
    "    return summation\n",
    "\n",
    "def newton_method(x,theta):\n",
    "    theta_values = [theta]\n",
    "    num_iterations = 0\n",
    "    max_iterations = 10\n",
    "    tolerance = 0.000001 # 1*10^-6\n",
    "    \n",
    "    while((num_iterations < max_iterations) and (abs(lprime(x,theta)) > tolerance)):\n",
    "        theta = theta - (lprime(x,theta)/lprime_2(x,theta))\n",
    "        theta_values.append(theta)\n",
    "        num_iterations+=1\n",
    "    \n",
    "    # Printing results\n",
    "    if(num_iterations == max_iterations):\n",
    "        print(\"You reached the maximum number of iterations.\")\n",
    "    else:\n",
    "        print(\"Number of iterations: \",num_iterations)\n",
    "    print(\"Final Solution: \", theta_values[num_iterations])\n",
    "    \n",
    "print(\"Theta = 0.05844060614042408\")\n",
    "theta = 0.05844060614042408\n",
    "newton_method(data,theta)\n",
    "print(\"Theta = 2.7\")\n",
    "theta = 2.7\n",
    "newton_method(data,theta)\n",
    "print(\"Theta = -2.7\")\n",
    "theta = -2.7\n",
    "newton_method(data,theta)"
   ]
  },
  {
   "cell_type": "code",
   "execution_count": null,
   "metadata": {},
   "outputs": [],
   "source": []
  }
 ],
 "metadata": {
  "kernelspec": {
   "display_name": "Python 3",
   "language": "python",
   "name": "python3"
  },
  "language_info": {
   "codemirror_mode": {
    "name": "ipython",
    "version": 3
   },
   "file_extension": ".py",
   "mimetype": "text/x-python",
   "name": "python",
   "nbconvert_exporter": "python",
   "pygments_lexer": "ipython3",
   "version": "3.5.5"
  }
 },
 "nbformat": 4,
 "nbformat_minor": 2
}
