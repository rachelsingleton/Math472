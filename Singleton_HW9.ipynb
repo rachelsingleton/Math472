{
 "cells": [
  {
   "cell_type": "markdown",
   "metadata": {},
   "source": [
    "# Problem 6.7\n",
    "### Consider pricing a European call option on an underlying stock with current price S(0) = 50, strike price K = 52, and volatility σ = 0.5. Suppose that there are N = 30 days to maturity and that the risk-free rate of return is r = 0.05."
   ]
  },
  {
   "cell_type": "markdown",
   "metadata": {},
   "source": [
    "### (a) Confirm that the fair price for this option is 2.10 when the payoff is based on S(30) [i.e., a standard option with payoff as in (6.74)]."
   ]
  },
  {
   "cell_type": "code",
   "execution_count": 18,
   "metadata": {},
   "outputs": [
    {
     "name": "stdout",
     "output_type": "stream",
     "text": [
      "Fair Price: 2.115962012607679\n"
     ]
    }
   ],
   "source": [
    "import numpy as np\n",
    "from scipy.stats import norm\n",
    "\n",
    "S_0 = 50\n",
    "K = 52\n",
    "sigma = 0.5\n",
    "r = 0.05\n",
    "T = 30\n",
    "n = 1000\n",
    "m = 100\n",
    "\n",
    "mu_euro = np.zeros((m,1))\n",
    "for j in range(m):\n",
    "    Z = norm.rvs(size=n)\n",
    "    S_t = S_0*np.exp(((r-(sigma**2)/2)*(T/365))+(sigma*Z*np.sqrt(T/365)))\n",
    "    C = np.zeros((n,1))\n",
    "    for i in range(n):\n",
    "        C[i] = (np.exp(-r*(T/365))*max(0,S_t[i]-K))\n",
    "    mu_euro[j] = np.mean(C)\n",
    "mu_hat = np.mean(mu_euro)\n",
    "\n",
    "print(\"Fair Price:\",mu_hat)"
   ]
  },
  {
   "cell_type": "markdown",
   "metadata": {},
   "source": [
    "### (b) Consider the analogous Asian option (same S(0), K, σ, N, and r) with payoff based on the arithmetic mean stock price during the holding period, as in (6.77). Using simple Monte Carlo, estimate the fair price for this option."
   ]
  },
  {
   "cell_type": "code",
   "execution_count": 2,
   "metadata": {},
   "outputs": [
    {
     "name": "stdout",
     "output_type": "stream",
     "text": [
      "Estimated mu: 0.8710066312337879\n",
      "Estimated theta: 0.8358998352485149\n"
     ]
    },
    {
     "data": {
      "image/png": "[encoded data removed]",
      "text/plain": [
       "<Figure size 432x288 with 1 Axes>"
      ]
     },
     "metadata": {},
     "output_type": "display_data"
    }
   ],
   "source": [
    "import matplotlib.pyplot as plt\n",
    "import numpy as np\n",
    "%matplotlib inline\n",
    "\n",
    "mu_monte_carlo = []\n",
    "theta_monte_carlo = []\n",
    "for j in range(m):\n",
    "    A = []\n",
    "    theta = []\n",
    "    for i in range(n):\n",
    "        S_t = [S_0]\n",
    "        for k in range(1,T):\n",
    "            S_t.append(S_t[k-1]*np.exp(((r-(sigma**2)/2)/365)+(sigma*norm.rvs(size=1))/np.sqrt(365)))\n",
    "        A.append(np.exp((-r*T)/365)*max(0,np.mean(S_t)-K))\n",
    "        theta.append(np.exp(-r*T/365)*max(0,np.exp(np.mean(np.log(S_t))) - K))\n",
    "    mu_monte_carlo.append(np.mean(A)) # the averaging is the simple monte carlo step\n",
    "    theta_monte_carlo.append(np.mean(theta))\n",
    "    \n",
    "#histogram of mu_monte_carlo\n",
    "plt.figure()\n",
    "plt.hist(mu_monte_carlo, density=True,rwidth=0.8)\n",
    "plt.title(\"Price Estimates\",fontsize=15)\n",
    "plt.xlabel('mu',fontsize=20)\n",
    "plt.ylabel('Frequency',fontsize=20)\n",
    "    \n",
    "print(\"Estimated mu:\",np.mean(mu_monte_carlo))\n",
    "print(\"Estimated theta:\",np.mean(theta_monte_carlo))\n",
    "plt.show()"
   ]
  },
  {
   "cell_type": "markdown",
   "metadata": {},
   "source": [
    "### (c) Improve upon the estimate in (b) using the control variate strategy described in Example 6.13."
   ]
  },
  {
   "cell_type": "code",
   "execution_count": 3,
   "metadata": {},
   "outputs": [
    {
     "name": "stdout",
     "output_type": "stream",
     "text": [
      "Standard Deviation for Ordinary Approach: 0.05707560269478325\n",
      "Standard Deviation for Control Variate Approach: 0.002408124827259906\n"
     ]
    },
    {
     "data": {
      "image/png": "[encoded data removed]",
      "text/plain": [
       "<Figure size 432x288 with 1 Axes>"
      ]
     },
     "metadata": {},
     "output_type": "display_data"
    }
   ],
   "source": [
    "# define constants given in book\n",
    "S_0 = 50\n",
    "K = 52\n",
    "sigma = 0.5\n",
    "r = 0.05\n",
    "T = 30\n",
    "n = 1000\n",
    "m = 100\n",
    "\n",
    "c3 = 1 + (1/T)\n",
    "a = c3*T\n",
    "b = 1/(2*T)\n",
    "d = 1 + b\n",
    "e = (a/1095)*d\n",
    "g = e**(1/2)\n",
    "c2 = sigma*g\n",
    "c1 = (1/c2)*((np.log(S_0/K) + ((c3*T/730)*(r - (sigma**2)/2)) + ((c3*(sigma**2)*T)/1095)*(1 + 1/(2*T))))\n",
    "the = (S_0*norm.cdf(c1)*np.exp(-T*(r + (c3*(sigma**2)/6))*(1 - (1/T))/730)) - (K*norm.cdf(c1-c2)*np.exp(-r*(T/365)))\n",
    "    \n",
    "# calculate control variate\n",
    "mu_control_var = mu_monte_carlo-(theta_monte_carlo-the)\n",
    "#histogram mu_control_var\n",
    "plt.figure()\n",
    "plt.hist(mu_control_var,rwidth=0.9)\n",
    "plt.title(\"Estimates using Control Variate\",fontsize=15)\n",
    "plt.xlabel('mu',fontsize=20)\n",
    "plt.ylabel('Frequency',fontsize=20)\n",
    "\n",
    "print(\"Standard Deviation for Ordinary Approach:\",np.std(mu_monte_carlo))\n",
    "print(\"Standard Deviation for Control Variate Approach:\",np.std(mu_control_var))\n",
    "plt.show()"
   ]
  },
  {
   "cell_type": "markdown",
   "metadata": {},
   "source": [
    "### (d) Try an antithetic approach to estimate the fair price for the option described in part (b)."
   ]
  },
  {
   "cell_type": "code",
   "execution_count": 23,
   "metadata": {},
   "outputs": [
    {
     "name": "stdout",
     "output_type": "stream",
     "text": [
      "Estimated mu: 0.8724440139116808\n"
     ]
    }
   ],
   "source": [
    "n = 500\n",
    "m = 50\n",
    "mu_mc_anti1 = []\n",
    "mu_mc_anti2 = []\n",
    "theta_mc_anti1 = []\n",
    "theta_mc_anti2 = []\n",
    "\n",
    "for j in range(m):\n",
    "    A1 = []\n",
    "    A2 = []\n",
    "    theta1 = []\n",
    "    theta2 = []\n",
    "    for i in range(n):\n",
    "        S_t1 = [S_0]\n",
    "        S_t2 = [S_0]\n",
    "        for k in range(1,T):\n",
    "            z = norm.rvs(size=1)\n",
    "            S_t1.append(S_t1[k-1]*np.exp(((r-(sigma**2)/2)/365)+(sigma*z)/np.sqrt(365)))\n",
    "            S_t2.append(S_t2[k-1]*np.exp(((r-(sigma**2)/2)/365)+(sigma*(-z))/np.sqrt(365)))\n",
    "        A1.append(np.exp((-r*T)/365)*max(0,np.mean(S_t1)-K))\n",
    "        A2.append(np.exp((-r*T)/365)*max(0,np.mean(S_t2)-K))\n",
    "        theta1.append(np.exp(-r*T/365)*max(0,np.exp(np.mean(np.log(S_t1))) - K))\n",
    "        theta2.append(np.exp(-r*T/365)*max(0,np.exp(np.mean(np.log(S_t2))) - K))\n",
    "    mu_mc_anti1.append(np.mean(A1)) # the averaging is the simple monte carlo step\n",
    "    mu_mc_anti2.append(np.mean(A2))\n",
    "    theta_mc_anti1.append(np.mean(theta1))\n",
    "    theta_mc_anti2.append(np.mean(theta2))\n",
    "\n",
    "#histogram of mu_monte_carlo\n",
    "plt.figure()\n",
    "plt.hist(mu_monte_carlo, density=True,rwidth=0.8)\n",
    "plt.title(\"Price Estimates\",fontsize=15)\n",
    "plt.xlabel('mu',fontsize=20)\n",
    "plt.ylabel('Frequency',fontsize=20)\n",
    "\n",
    "print(\"Estimated mu:\",0.5*(np.mean(mu_mc_anti1)+np.mean(mu_mc_anti2)))\n",
    "# plt.show()"
   ]
  },
  {
   "cell_type": "markdown",
   "metadata": {},
   "source": [
    "### (e) Using simulation and/or analysis, compare the sampling distributions of the estimators in (b), (c), and (d)."
   ]
  },
  {
   "cell_type": "code",
   "execution_count": null,
   "metadata": {},
   "outputs": [],
   "source": []
  },
  {
   "cell_type": "markdown",
   "metadata": {},
   "source": [
    "# Problem 6.8"
   ]
  },
  {
   "cell_type": "markdown",
   "metadata": {},
   "source": [
    "### Consider the model given by X~Lognormal(0,1) and log(Y) = 9+3log(X) + epsilon, where epsilon~N(0,1). We wish to estimate E[Y/X]. Compare the performance of the standard Monte Carlo estimator and the Rao-Blackwellized estimator.  "
   ]
  },
  {
   "cell_type": "code",
   "execution_count": 4,
   "metadata": {},
   "outputs": [
    {
     "name": "stdout",
     "output_type": "stream",
     "text": [
      "Estimated mu with Monte Carlo: 98779.57348157963\n",
      "Estimated standard deviation with Monte Carlo: 390.2526065335512\n"
     ]
    },
    {
     "data": {
      "text/plain": [
       "Text(0,0.5,'Frequency')"
      ]
     },
     "execution_count": 4,
     "metadata": {},
     "output_type": "execute_result"
    },
    {
     "data": {
      "image/png": "[encoded data removed]",
      "text/plain": [
       "<Figure size 432x288 with 1 Axes>"
      ]
     },
     "metadata": {},
     "output_type": "display_data"
    }
   ],
   "source": [
    "from scipy.stats import lognorm\n",
    "from scipy.stats import norm\n",
    "import matplotlib.pyplot as plt\n",
    "import numpy as np\n",
    "%matplotlib inline\n",
    "\n",
    "n = 10000000\n",
    "m = 30\n",
    "mc_est = []\n",
    "rb_est = []\n",
    "\n",
    "# 30 trials of 10000000 numbers\n",
    "for i in range(m):\n",
    "    x = lognorm.rvs(s=1,scale=1,size=n)\n",
    "    epsilon = norm.rvs(size=n)\n",
    "    y = np.exp(9+(3*np.log(x))+epsilon)\n",
    "    mc_est.append(np.mean(y/x))\n",
    "    \n",
    "# Now averaging the 30 trials that we did\n",
    "mc_mu = np.mean(mc_est)\n",
    "print(\"Estimated mu with Monte Carlo:\",mc_mu)\n",
    "mc_sd = np.std(mc_est)\n",
    "print(\"Estimated standard deviation with Monte Carlo:\",mc_sd)\n",
    "\n",
    "plt.figure()\n",
    "plt.hist(mc_est,rwidth=0.9)\n",
    "plt.title(\"Estimates with Monte Carlo\",fontsize=15)\n",
    "plt.xlabel('E(Y/X)',fontsize=20)\n",
    "plt.ylabel('Frequency',fontsize=20)\n",
    "plt.show()"
   ]
  },
  {
   "cell_type": "code",
   "execution_count": null,
   "metadata": {},
   "outputs": [],
   "source": []
  }
 ],
 "metadata": {
  "kernelspec": {
   "display_name": "Python 3",
   "language": "python",
   "name": "python3"
  },
  "language_info": {
   "codemirror_mode": {
    "name": "ipython",
    "version": 3
   },
   "file_extension": ".py",
   "mimetype": "text/x-python",
   "name": "python",
   "nbconvert_exporter": "python",
   "pygments_lexer": "ipython3",
   "version": "3.5.5"
  },
  "varInspector": {
   "cols": {
    "lenName": 16,
    "lenType": 16,
    "lenVar": 40
   },
   "kernels_config": {
    "python": {
     "delete_cmd_postfix": "",
     "delete_cmd_prefix": "del ",
     "library": "var_list.py",
     "varRefreshCmd": "print(var_dic_list())"
    },
    "r": {
     "delete_cmd_postfix": ") ",
     "delete_cmd_prefix": "rm(",
     "library": "var_list.r",
     "varRefreshCmd": "cat(var_dic_list()) "
    }
   },
   "position": {
    "height": "377px",
    "left": "909.1712036132812px",
    "right": "20px",
    "top": "119.99456024169922px",
    "width": "330px"
   },
   "types_to_exclude": [
    "module",
    "function",
    "builtin_function_or_method",
    "instance",
    "_Feature"
   ],
   "window_display": false
  }
 },
 "nbformat": 4,
 "nbformat_minor": 2
}
