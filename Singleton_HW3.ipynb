{
 "cells": [
  {
   "cell_type": "markdown",
   "metadata": {},
   "source": [
    "### (1a)"
   ]
  },
  {
   "cell_type": "code",
   "execution_count": 1,
   "metadata": {},
   "outputs": [
    {
     "name": "stdout",
     "output_type": "stream",
     "text": [
      "Table for Beta_0=0.95913, Beta_1=0\n"
     ]
    },
    {
     "data": {
      "text/html": [
       "<style  type=\"text/css\" >\n",
       "    #T_63afe480_47ca_11ea_a60c_a4d18cd78182 th {\n",
       "          text-align: center;\n",
       "    }</style><table id=\"T_63afe480_47ca_11ea_a60c_a4d18cd78182\" ><thead>    <tr>        <th class=\"col_heading level0 col0\" >Iteration,t</th>        <th class=\"col_heading level0 col1\" >Beta</th>        <th class=\"col_heading level0 col2\" >Hessian</th>    </tr></thead><tbody>\n",
       "                <tr>\n",
       "                                <td id=\"T_63afe480_47ca_11ea_a60c_a4d18cd78182row0_col0\" class=\"data row0 col0\" >0</td>\n",
       "                        <td id=\"T_63afe480_47ca_11ea_a60c_a4d18cd78182row0_col1\" class=\"data row0 col1\" >[[0.95913]\n",
       " [0.     ]]</td>\n",
       "                        <td id=\"T_63afe480_47ca_11ea_a60c_a4d18cd78182row0_col2\" class=\"data row0 col2\" >[[ 0.01096355 -0.11774922]\n",
       " [-0.11774922  2.24636741]]</td>\n",
       "            </tr>\n",
       "            <tr>\n",
       "                                <td id=\"T_63afe480_47ca_11ea_a60c_a4d18cd78182row1_col0\" class=\"data row1 col0\" >1</td>\n",
       "                        <td id=\"T_63afe480_47ca_11ea_a60c_a4d18cd78182row1_col1\" class=\"data row1 col1\" >[[  1.72028763]\n",
       " [-13.90963144]]</td>\n",
       "                        <td id=\"T_63afe480_47ca_11ea_a60c_a4d18cd78182row1_col2\" class=\"data row1 col2\" >[[ 0.01376919 -0.14444378]\n",
       " [-0.14444378  2.43426036]]</td>\n",
       "            </tr>\n",
       "            <tr>\n",
       "                                <td id=\"T_63afe480_47ca_11ea_a60c_a4d18cd78182row2_col0\" class=\"data row2 col0\" >2</td>\n",
       "                        <td id=\"T_63afe480_47ca_11ea_a60c_a4d18cd78182row2_col1\" class=\"data row2 col1\" >[[  1.75721969]\n",
       " [-13.38389891]]</td>\n",
       "                        <td id=\"T_63afe480_47ca_11ea_a60c_a4d18cd78182row2_col2\" class=\"data row2 col2\" >[[ 0.01399076 -0.14439871]\n",
       " [-0.14439871  2.40178607]]</td>\n",
       "            </tr>\n",
       "            <tr>\n",
       "                                <td id=\"T_63afe480_47ca_11ea_a60c_a4d18cd78182row3_col0\" class=\"data row3 col0\" >3</td>\n",
       "                        <td id=\"T_63afe480_47ca_11ea_a60c_a4d18cd78182row3_col1\" class=\"data row3 col1\" >[[  1.75870063]\n",
       " [-13.40003398]]</td>\n",
       "                        <td id=\"T_63afe480_47ca_11ea_a60c_a4d18cd78182row3_col2\" class=\"data row3 col2\" >[[ 0.01400062 -0.1445039 ]\n",
       " [-0.1445039   2.40316643]]</td>\n",
       "            </tr>\n",
       "            <tr>\n",
       "                                <td id=\"T_63afe480_47ca_11ea_a60c_a4d18cd78182row4_col0\" class=\"data row4 col0\" >4</td>\n",
       "                        <td id=\"T_63afe480_47ca_11ea_a60c_a4d18cd78182row4_col1\" class=\"data row4 col1\" >[[  1.75870116]\n",
       " [-13.40003968]]</td>\n",
       "                        <td id=\"T_63afe480_47ca_11ea_a60c_a4d18cd78182row4_col2\" class=\"data row4 col2\" >[[ 0.01400062 -0.14450394]\n",
       " [-0.14450394  2.40316692]]</td>\n",
       "            </tr>\n",
       "    </tbody></table>"
      ],
      "text/plain": [
       "<pandas.io.formats.style.Styler at 0x10ac97b70>"
      ]
     },
     "execution_count": 1,
     "metadata": {},
     "output_type": "execute_result"
    }
   ],
   "source": [
    "import pandas as pd\n",
    "import numpy as np\n",
    "\n",
    "# Importing our data using pandas\n",
    "data = pd.read_csv(\"facerecognition.dat\", delimiter=\" \")\n",
    "\n",
    "# Book defines our y to be a 1 or 0 (the match) and z as the absolute difference in eye region pixel intensity (eyediff)\n",
    "y = data['match'].to_numpy().reshape(1042,1)\n",
    "z = data['eyediff'].to_numpy().reshape(1042,1)\n",
    "\n",
    "# We need our z matrix to be a certain dimension for when we multiply it by beta\n",
    "# To do this, we will create a column of ones and add them together\n",
    "ones = np.ones((1042,1))\n",
    "z = np.hstack((ones,z))\n",
    "\n",
    "# Number of rows in our data set\n",
    "n = y.size\n",
    "\n",
    "# Newton updating equation for beta\n",
    "def update_beta(beta,W,Z,y,pi,Hessian):\n",
    "    return beta + Hessian.dot((np.transpose(Z).dot((y-pi))))\n",
    "\n",
    "# Updating equation for pi with each iteration\n",
    "def update_pi(Z,beta):\n",
    "    return 1/(1+np.exp(-Z.dot(beta)))\n",
    "\n",
    "# Defining our starting beta array\n",
    "beta1 = np.array([0.95913,0]).reshape(2,1)\n",
    "\n",
    "# Defining a starting matrix filled with 0's\n",
    "W = np.zeros((n,n))\n",
    "\n",
    "# Looping through and calculating pi and inputting it into our diagonal matrix\n",
    "beta1_values = []\n",
    "beta_xa = []\n",
    "beta_ya = []\n",
    "iterations = []\n",
    "appendedlist = []\n",
    "beta1_values.append(beta1)\n",
    "for i in range(5):\n",
    "    iterations.append(i)\n",
    "    beta1_values.append(beta1)\n",
    "    beta_xa.append(beta1_values[i][0])\n",
    "    beta_ya.append(beta1_values[i][1])\n",
    "    pi = update_pi(z,beta1)\n",
    "    np.fill_diagonal(W,pi*(1-pi))\n",
    "    Hessian = np.linalg.inv(np.linalg.multi_dot((np.transpose(z),W,z)))\n",
    "    data_value = [i,beta1,Hessian]\n",
    "    appendedlist.append(data_value)\n",
    "    beta1 = update_beta(beta1,W,z,y,pi,Hessian)\n",
    "    \n",
    "print(\"Table for Beta_0=0.95913, Beta_1=0\")\n",
    "df = pd.DataFrame(appendedlist, columns = ['Iteration,t','Beta','Hessian'])\n",
    "df = df.style.hide_index()\n",
    "df = df.set_table_styles([dict(selector='th', props=[('text-align', 'center')])])\n",
    "df"
   ]
  },
  {
   "cell_type": "markdown",
   "metadata": {},
   "source": [
    "### (1b)"
   ]
  },
  {
   "cell_type": "code",
   "execution_count": 2,
   "metadata": {},
   "outputs": [
    {
     "name": "stdout",
     "output_type": "stream",
     "text": [
      "Table for Beta_0=0, Beta_1=0\n"
     ]
    },
    {
     "data": {
      "text/html": [
       "<style  type=\"text/css\" >\n",
       "    #T_63ba1dc6_47ca_11ea_994f_a4d18cd78182 th {\n",
       "          text-align: center;\n",
       "    }</style><table id=\"T_63ba1dc6_47ca_11ea_994f_a4d18cd78182\" ><thead>    <tr>        <th class=\"col_heading level0 col0\" >Iteration,t</th>        <th class=\"col_heading level0 col1\" >Beta</th>        <th class=\"col_heading level0 col2\" >Hessian</th>    </tr></thead><tbody>\n",
       "                <tr>\n",
       "                                <td id=\"T_63ba1dc6_47ca_11ea_994f_a4d18cd78182row0_col0\" class=\"data row0 col0\" >0</td>\n",
       "                        <td id=\"T_63ba1dc6_47ca_11ea_994f_a4d18cd78182row0_col1\" class=\"data row0 col1\" >[[0]\n",
       " [0]]</td>\n",
       "                        <td id=\"T_63ba1dc6_47ca_11ea_994f_a4d18cd78182row0_col2\" class=\"data row0 col2\" >[[ 0.00878375 -0.09433803]\n",
       " [-0.09433803  1.79973903]]</td>\n",
       "            </tr>\n",
       "            <tr>\n",
       "                                <td id=\"T_63ba1dc6_47ca_11ea_994f_a4d18cd78182row1_col0\" class=\"data row1 col0\" >1</td>\n",
       "                        <td id=\"T_63ba1dc6_47ca_11ea_994f_a4d18cd78182row1_col1\" class=\"data row1 col1\" >[[  1.5016127 ]\n",
       " [-11.14408376]]</td>\n",
       "                        <td id=\"T_63ba1dc6_47ca_11ea_994f_a4d18cd78182row1_col2\" class=\"data row1 col2\" >[[ 0.01246462 -0.12936371]\n",
       " [-0.12936371  2.21900238]]</td>\n",
       "            </tr>\n",
       "            <tr>\n",
       "                                <td id=\"T_63ba1dc6_47ca_11ea_994f_a4d18cd78182row2_col0\" class=\"data row2 col0\" >2</td>\n",
       "                        <td id=\"T_63ba1dc6_47ca_11ea_994f_a4d18cd78182row2_col1\" class=\"data row2 col1\" >[[  1.74440309]\n",
       " [-13.26669118]]</td>\n",
       "                        <td id=\"T_63ba1dc6_47ca_11ea_994f_a4d18cd78182row2_col2\" class=\"data row2 col2\" >[[ 0.01390619 -0.14355394]\n",
       " [-0.14355394  2.39141906]]</td>\n",
       "            </tr>\n",
       "            <tr>\n",
       "                                <td id=\"T_63ba1dc6_47ca_11ea_994f_a4d18cd78182row3_col0\" class=\"data row3 col0\" >3</td>\n",
       "                        <td id=\"T_63ba1dc6_47ca_11ea_994f_a4d18cd78182row3_col1\" class=\"data row3 col1\" >[[  1.75865273]\n",
       " [-13.3995696 ]]</td>\n",
       "                        <td id=\"T_63ba1dc6_47ca_11ea_994f_a4d18cd78182row3_col2\" class=\"data row3 col2\" >[[ 0.0140003  -0.14450065]\n",
       " [-0.14450065  2.40312566]]</td>\n",
       "            </tr>\n",
       "            <tr>\n",
       "                                <td id=\"T_63ba1dc6_47ca_11ea_994f_a4d18cd78182row4_col0\" class=\"data row4 col0\" >4</td>\n",
       "                        <td id=\"T_63ba1dc6_47ca_11ea_994f_a4d18cd78182row4_col1\" class=\"data row4 col1\" >[[  1.75870116]\n",
       " [-13.40003968]]</td>\n",
       "                        <td id=\"T_63ba1dc6_47ca_11ea_994f_a4d18cd78182row4_col2\" class=\"data row4 col2\" >[[ 0.01400062 -0.14450394]\n",
       " [-0.14450394  2.40316692]]</td>\n",
       "            </tr>\n",
       "    </tbody></table>"
      ],
      "text/plain": [
       "<pandas.io.formats.style.Styler at 0x11b7100f0>"
      ]
     },
     "execution_count": 2,
     "metadata": {},
     "output_type": "execute_result"
    }
   ],
   "source": [
    "print(\"Table for Beta_0=0, Beta_1=0\")\n",
    "# Defining our starting beta array\n",
    "beta = np.array([0,0]).reshape(2,1)\n",
    "\n",
    "# Defining a starting matrix filled with 0's\n",
    "W = np.zeros((n,n))\n",
    "\n",
    "# Looping through and calculating pi and inputting it into our diagonal matrix\n",
    "beta_values = []\n",
    "beta_xb = []\n",
    "beta_yb = []\n",
    "iterations = []\n",
    "appendedlist = []\n",
    "for i in range(5):\n",
    "    iterations.append(i)\n",
    "    beta_values.append(beta)\n",
    "    beta_xb.append(beta_values[i][0])\n",
    "    beta_yb.append(beta_values[i][1])\n",
    "    pi = update_pi(z,beta)\n",
    "    np.fill_diagonal(W,pi*(1-pi))\n",
    "    Hessian = np.linalg.inv(np.linalg.multi_dot((np.transpose(z),W,z)))\n",
    "    data_value = [i,beta,Hessian]\n",
    "    appendedlist.append(data_value)\n",
    "    beta = update_beta(beta,W,z,y,pi,Hessian)\n",
    "\n",
    "df = pd.DataFrame(appendedlist, columns = ['Iteration,t','Beta','Hessian'])\n",
    "df = df.style.hide_index()\n",
    "df = df.set_table_styles([dict(selector='th', props=[('text-align', 'center')])])\n",
    "df"
   ]
  },
  {
   "cell_type": "markdown",
   "metadata": {},
   "source": [
    "### (1c)"
   ]
  },
  {
   "cell_type": "code",
   "execution_count": 6,
   "metadata": {},
   "outputs": [
    {
     "data": {
      "text/plain": [
       "Text(0,10,'xb_0')"
      ]
     },
     "execution_count": 6,
     "metadata": {},
     "output_type": "execute_result"
    },
    {
     "data": {
      "image/png": "[encoded data removed]",
      "text/plain": [
       "<Figure size 432x288 with 2 Axes>"
      ]
     },
     "metadata": {},
     "output_type": "display_data"
    }
   ],
   "source": [
    "%matplotlib inline\n",
    "import matplotlib.pyplot as plt\n",
    "plt.style.use('seaborn-white')\n",
    "\n",
    "beta_0 = np.linspace(-2, 2, 100)\n",
    "beta_1 = np.linspace(-15, 15, 100)\n",
    "# make a meshgrid\n",
    "b_0, b_1 = np.meshgrid(beta_0, beta_1)\n",
    "\n",
    "# Log-liklihood from the book\n",
    "def f(y,z,beta_0, beta_1):\n",
    "    #print(z.shape)\n",
    "    beta = np.array([beta_0,beta_1]).reshape(2,1)\n",
    "    pi = update_pi(z,beta)\n",
    "    b = -np.log(1-pi)\n",
    "    return (np.transpose(y).dot(z)).dot(beta)-np.transpose(b).dot(ones)\n",
    "\n",
    "Zmesh = np.zeros((b_0.shape[0],b_1.shape[0]))\n",
    "\n",
    "for i in range(b_0.shape[0]):\n",
    "    for j in range(b_1.shape[0]):\n",
    "        b0 = b_0[i,j]; b1 = b_1[i,j]\n",
    "        Zmesh[i,j]=f(y,z,b0,b1)\n",
    "\n",
    "\n",
    "plt.contourf(b_0,b_1,Zmesh, 40, cmap='Spectral')\n",
    "plt.colorbar()\n",
    "plt.plot(beta_xa,beta_ya,'k-')\n",
    "plt.plot(beta_xb,beta_yb,'r-')\n",
    "plt.annotate('xa_0', (0.95913,0),textcoords=\"offset points\", xytext=(0,10), ha='center',fontsize=17)\n",
    "plt.annotate('xb_0', (0,0),textcoords=\"offset points\", xytext=(0,10), ha='center',fontsize=17)"
   ]
  },
  {
   "cell_type": "markdown",
   "metadata": {},
   "source": [
    "### (2a)"
   ]
  },
  {
   "cell_type": "code",
   "execution_count": null,
   "metadata": {},
   "outputs": [],
   "source": []
  }
 ],
 "metadata": {
  "kernelspec": {
   "display_name": "Python 3",
   "language": "python",
   "name": "python3"
  },
  "language_info": {
   "codemirror_mode": {
    "name": "ipython",
    "version": 3
   },
   "file_extension": ".py",
   "mimetype": "text/x-python",
   "name": "python",
   "nbconvert_exporter": "python",
   "pygments_lexer": "ipython3",
   "version": "3.5.5"
  }
 },
 "nbformat": 4,
 "nbformat_minor": 2
}
